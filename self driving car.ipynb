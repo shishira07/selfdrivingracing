{
 "cells": [
  {
   "cell_type": "markdown",
   "id": "d188f936",
   "metadata": {},
   "source": [
    "# IMPORT DEPENDENCIES"
   ]
  },
  {
   "cell_type": "code",
   "execution_count": 1,
   "id": "77b60c05",
   "metadata": {},
   "outputs": [],
   "source": [
    "import gym \n",
    "from stable_baselines3 import PPO\n",
    "from stable_baselines3.common.vec_env import DummyVecEnv\n",
    "from stable_baselines3.common.evaluation import evaluate_policy\n",
    "import os\n"
   ]
  },
  {
   "cell_type": "markdown",
   "id": "c2e8bccf",
   "metadata": {},
   "source": [
    "## LOAD ENVIRONMENT"
   ]
  },
  {
   "cell_type": "code",
   "execution_count": 2,
   "id": "6cbfce39",
   "metadata": {},
   "outputs": [],
   "source": [
    "environment_name = \"CarRacing-v0\""
   ]
  },
  {
   "cell_type": "code",
   "execution_count": 3,
   "id": "38c52132",
   "metadata": {},
   "outputs": [
    {
     "name": "stdout",
     "output_type": "stream",
     "text": [
      "Requirement already satisfied: swig in ./miniconda3/envs/rl_course/lib/python3.10/site-packages (4.1.1)\r\n"
     ]
    }
   ],
   "source": [
    "!pip install swig"
   ]
  },
  {
   "cell_type": "code",
   "execution_count": 4,
   "id": "ff968062",
   "metadata": {},
   "outputs": [
    {
     "name": "stdout",
     "output_type": "stream",
     "text": [
      "Requirement already satisfied: Box2d in ./miniconda3/envs/rl_course/lib/python3.10/site-packages (2.3.2)\r\n"
     ]
    }
   ],
   "source": [
    "!pip install Box2d\n"
   ]
  },
  {
   "cell_type": "code",
   "execution_count": 5,
   "id": "9f854d15",
   "metadata": {},
   "outputs": [
    {
     "name": "stdout",
     "output_type": "stream",
     "text": [
      "Requirement already satisfied: box2d in ./miniconda3/envs/rl_course/lib/python3.10/site-packages (2.3.2)\r\n",
      "Requirement already satisfied: box2d-kengz in ./miniconda3/envs/rl_course/lib/python3.10/site-packages (2.3.3)\r\n"
     ]
    }
   ],
   "source": [
    "!pip3 install box2d box2d-kengz\n"
   ]
  },
  {
   "cell_type": "code",
   "execution_count": 6,
   "id": "fe0de175",
   "metadata": {},
   "outputs": [],
   "source": [
    "env = gym.make(environment_name)\n"
   ]
  },
  {
   "cell_type": "markdown",
   "id": "f931783a",
   "metadata": {},
   "source": [
    "## Train an Rl model"
   ]
  },
  {
   "cell_type": "code",
   "execution_count": 7,
   "id": "213ffe77",
   "metadata": {},
   "outputs": [
    {
     "name": "stdout",
     "output_type": "stream",
     "text": [
      "Track generation: 1113..1395 -> 282-tiles track\n",
      "Episode:1 Score:-28.825622775801083\n",
      "Track generation: 1088..1364 -> 276-tiles track\n",
      "Episode:2 Score:-27.272727272727554\n",
      "Track generation: 1243..1558 -> 315-tiles track\n",
      "Episode:3 Score:-36.305732484077\n",
      "Track generation: 1263..1583 -> 320-tiles track\n",
      "Episode:4 Score:-37.30407523511026\n",
      "Track generation: 1052..1318 -> 266-tiles track\n",
      "Episode:5 Score:-24.528301886792768\n"
     ]
    }
   ],
   "source": [
    "episodes = 5\n",
    "for episode in range(1, episodes+1):\n",
    "    state = env.reset()\n",
    "    done = False\n",
    "    score = 0 \n",
    "    \n",
    "    while not done:\n",
    "        env.render()\n",
    "        action = env.action_space.sample()\n",
    "        n_state, reward, done, info = env.step(action)\n",
    "        score+=reward\n",
    "    print('Episode:{} Score:{}'.format(episode, score))\n",
    "env.close()"
   ]
  },
  {
   "cell_type": "code",
   "execution_count": 8,
   "id": "41f23e4a",
   "metadata": {},
   "outputs": [],
   "source": [
    "env.close()"
   ]
  },
  {
   "cell_type": "code",
   "execution_count": 9,
   "id": "f43aefe9",
   "metadata": {},
   "outputs": [
    {
     "data": {
      "text/plain": [
       "array([-0.6563943 ,  0.67775995,  0.02514442], dtype=float32)"
      ]
     },
     "execution_count": 9,
     "metadata": {},
     "output_type": "execute_result"
    }
   ],
   "source": [
    "env.action_space.sample()"
   ]
  },
  {
   "cell_type": "code",
   "execution_count": 10,
   "id": "9432d7e9",
   "metadata": {},
   "outputs": [
    {
     "data": {
      "text/plain": [
       "array([[[207, 214, 224],\n",
       "        [  5,  33, 155],\n",
       "        [166,  34, 201],\n",
       "        ...,\n",
       "        [ 49, 208,  66],\n",
       "        [118, 198, 208],\n",
       "        [219,  54, 228]],\n",
       "\n",
       "       [[212,  40,  18],\n",
       "        [197, 127, 163],\n",
       "        [161, 132,  78],\n",
       "        ...,\n",
       "        [166,  62,  52],\n",
       "        [242, 130, 119],\n",
       "        [152,  53,  90]],\n",
       "\n",
       "       [[ 97,  99,  14],\n",
       "        [122, 152,  69],\n",
       "        [135, 206,  70],\n",
       "        ...,\n",
       "        [116, 144,  97],\n",
       "        [237, 196,  87],\n",
       "        [143,   1,  95]],\n",
       "\n",
       "       ...,\n",
       "\n",
       "       [[ 65, 215, 255],\n",
       "        [ 17, 112, 180],\n",
       "        [154, 159,  81],\n",
       "        ...,\n",
       "        [164, 245,  89],\n",
       "        [109,  80, 136],\n",
       "        [232, 117,  67]],\n",
       "\n",
       "       [[ 74,  86,  85],\n",
       "        [ 73, 141,  84],\n",
       "        [ 39, 253, 239],\n",
       "        ...,\n",
       "        [ 74, 245, 199],\n",
       "        [ 69, 160, 144],\n",
       "        [ 96, 186, 194]],\n",
       "\n",
       "       [[ 13, 207,  14],\n",
       "        [250, 193, 253],\n",
       "        [164, 142, 135],\n",
       "        ...,\n",
       "        [137, 176,  84],\n",
       "        [ 33,  60, 236],\n",
       "        [193,  45,  99]]], dtype=uint8)"
      ]
     },
     "execution_count": 10,
     "metadata": {},
     "output_type": "execute_result"
    }
   ],
   "source": [
    "env.observation_space.sample()"
   ]
  },
  {
   "cell_type": "code",
   "execution_count": 11,
   "id": "1f69e950",
   "metadata": {},
   "outputs": [],
   "source": [
    "env = gym.make(environment_name)\n",
    "env = DummyVecEnv([lambda: env])"
   ]
  },
  {
   "cell_type": "code",
   "execution_count": 12,
   "id": "206e67da",
   "metadata": {},
   "outputs": [
    {
     "name": "stdout",
     "output_type": "stream",
     "text": [
      "Using cpu device\n",
      "Wrapping the env in a VecTransposeImage.\n"
     ]
    }
   ],
   "source": [
    "log_path = os.path.join('Training', 'Logs')\n",
    "model = PPO('CnnPolicy', env , verbose = 1, tensorboard_log=log_path)"
   ]
  },
  {
   "cell_type": "code",
   "execution_count": null,
   "id": "944d67c5",
   "metadata": {},
   "outputs": [],
   "source": [
    "model.learn(total_timesteps=10000)"
   ]
  },
  {
   "cell_type": "code",
   "execution_count": null,
   "id": "49f57de4",
   "metadata": {},
   "outputs": [],
   "source": [
    "ppo_path = os.path.join('Training', 'Saved Models', 'PPO_Driving_model')"
   ]
  },
  {
   "cell_type": "code",
   "execution_count": null,
   "id": "3cc092e2",
   "metadata": {},
   "outputs": [],
   "source": [
    "model.save(ppo_path)"
   ]
  },
  {
   "cell_type": "code",
   "execution_count": null,
   "id": "826fa42a",
   "metadata": {},
   "outputs": [],
   "source": [
    "del model"
   ]
  },
  {
   "cell_type": "code",
   "execution_count": null,
   "id": "048c0ffc",
   "metadata": {},
   "outputs": [],
   "source": [
    "model = PPO.load(ppo_path, env)"
   ]
  },
  {
   "cell_type": "code",
   "execution_count": null,
   "id": "dbe388f5",
   "metadata": {},
   "outputs": [],
   "source": [
    "evaluate_policy(model, env, n_eval_episodes=10, render=True)"
   ]
  },
  {
   "cell_type": "code",
   "execution_count": null,
   "id": "6d6de6b9",
   "metadata": {},
   "outputs": [],
   "source": [
    "env.close()"
   ]
  },
  {
   "cell_type": "code",
   "execution_count": null,
   "id": "9439327d",
   "metadata": {},
   "outputs": [],
   "source": []
  }
 ],
 "metadata": {
  "kernelspec": {
   "display_name": "Python 3 (ipykernel)",
   "language": "python",
   "name": "python3"
  },
  "language_info": {
   "codemirror_mode": {
    "name": "ipython",
    "version": 3
   },
   "file_extension": ".py",
   "mimetype": "text/x-python",
   "name": "python",
   "nbconvert_exporter": "python",
   "pygments_lexer": "ipython3",
   "version": "3.10.8"
  }
 },
 "nbformat": 4,
 "nbformat_minor": 5
}
